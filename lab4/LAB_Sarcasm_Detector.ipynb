{
 "cells": [
  {
   "cell_type": "markdown",
   "metadata": {
    "id": "BLHBJtOKWVrq"
   },
   "source": [
    "## LAB - Sarcasm Detector"
   ]
  },
  {
   "cell_type": "markdown",
   "metadata": {
    "id": "Q44Ijn1sWVrr"
   },
   "source": [
    "## LAB\n",
    "\n",
    "*   Analyze input data, determine the sequence length (max)\n",
    "*   Train BERT Sequence Classifier to detect sarcasm in the given dataset\n",
    "*   Save the best model in './bert_sarcasm_detection_state_dict.pth'\n",
    "*   Predict the sacasm for some headlines\n"
   ]
  },
  {
   "cell_type": "markdown",
   "metadata": {
    "id": "lEdjBg0wZ0FS"
   },
   "source": [
    "### Download data and import packages"
   ]
  },
  {
   "cell_type": "code",
   "execution_count": null,
   "metadata": {
    "colab": {
     "base_uri": "https://localhost:8080/",
     "height": 476
    },
    "id": "p_ohifPAWVr3",
    "outputId": "7d8d6928-0fed-4069-872c-7406508534ce"
   },
   "outputs": [],
   "source": [
    "!wget https://github.com/ravi-ilango/odsc2020_nlp/blob/main/lab3/sarcasm_data.zip?raw=true -O sarcasm_data.zip\n",
    "\n",
    "!unzip sarcasm_data.zip"
   ]
  },
  {
   "cell_type": "code",
   "execution_count": null,
   "metadata": {
    "colab": {
     "base_uri": "https://localhost:8080/",
     "height": 326
    },
    "id": "BamRanGtWVrs",
    "outputId": "62edb1a7-c7e7-4c9d-8470-efb248a4ea24"
   },
   "outputs": [],
   "source": [
    "!pip install pytorch_pretrained_bert"
   ]
  },
  {
   "cell_type": "code",
   "execution_count": null,
   "metadata": {
    "colab": {
     "base_uri": "https://localhost:8080/",
     "height": 34
    },
    "id": "QisEB7fcWy5-",
    "outputId": "fe165c96-e7ea-470e-90c3-b27693327388"
   },
   "outputs": [],
   "source": [
    "!pip install --upgrade urllib3"
   ]
  },
  {
   "cell_type": "code",
   "execution_count": null,
   "metadata": {
    "id": "lMShmRsBWVrv"
   },
   "outputs": [],
   "source": [
    "# imports\n",
    "import torch\n",
    "from torch.utils.data import TensorDataset, DataLoader, RandomSampler, SequentialSampler\n",
    "from keras.preprocessing.sequence import pad_sequences\n",
    "from sklearn.model_selection import train_test_split\n",
    "from pytorch_pretrained_bert import BertTokenizer, BertConfig\n",
    "from pytorch_pretrained_bert import BertAdam, BertForSequenceClassification\n",
    "from tqdm import trange\n",
    "import numpy as np\n",
    "import pandas as pd\n",
    "import os\n",
    "import json\n",
    "\n",
    "import matplotlib.pyplot as plt\n",
    "% matplotlib inline"
   ]
  },
  {
   "cell_type": "code",
   "execution_count": null,
   "metadata": {
    "id": "6z-az6a5WVr0"
   },
   "outputs": [],
   "source": [
    "model_path = './bert_sarcasm_detection_state_dict.pth'"
   ]
  },
  {
   "cell_type": "markdown",
   "metadata": {
    "id": "8g5FSHhGWVr3"
   },
   "source": [
    "### Load data and explore"
   ]
  },
  {
   "cell_type": "code",
   "execution_count": null,
   "metadata": {
    "id": "jIOsyJWZWVr6"
   },
   "outputs": [],
   "source": [
    "def read_json(json_file):\n",
    "    json_data = []\n",
    "    file = open(json_file)\n",
    "    for line in file:\n",
    "        json_line = json.loads(line)\n",
    "        json_data.append(json_line)\n",
    "    return json_data\n",
    "\n",
    "json_data = []\n",
    "for json_file in ['./sarcasm_data/Sarcasm_Headlines_Dataset.json',  './sarcasm_data/Sarcasm_Headlines_Dataset_v2.json']:\n",
    "    json_data = json_data + read_json(json_file)"
   ]
  },
  {
   "cell_type": "code",
   "execution_count": null,
   "metadata": {
    "colab": {
     "base_uri": "https://localhost:8080/",
     "height": 34
    },
    "id": "3cI-uOiFWVr9",
    "outputId": "16914875-8c11-4c38-91d7-9c99372286f9"
   },
   "outputs": [],
   "source": [
    "df = pd.DataFrame(json_data)\n",
    "\n",
    "headline_data_train = df.headline.values\n",
    "is_sarcastic_label_train = df.is_sarcastic.values\n",
    "\n",
    "print(headline_data_train.shape)"
   ]
  },
  {
   "cell_type": "code",
   "execution_count": null,
   "metadata": {
    "colab": {
     "base_uri": "https://localhost:8080/",
     "height": 187
    },
    "id": "QXotjnWqXoix",
    "outputId": "92a06e25-9963-4d83-b344-2fffe4ca3464"
   },
   "outputs": [],
   "source": [
    "for _, row in df[df.is_sarcastic==1].head().iterrows():\n",
    "  print (f\"\\n{row.headline}\")"
   ]
  },
  {
   "cell_type": "code",
   "execution_count": null,
   "metadata": {
    "colab": {
     "base_uri": "https://localhost:8080/",
     "height": 296
    },
    "id": "4ylT1aSOWVsA",
    "outputId": "c9897927-29db-41b8-db15-47213b11fedf"
   },
   "outputs": [],
   "source": [
    "labels = is_sarcastic_label_train\n",
    "plt.hist(labels)\n",
    "plt.xlabel('is_sarcastic')\n",
    "plt.ylabel('nb samples')\n",
    "plt.title('is_sarcastic distribution')\n",
    "plt.xticks(np.arange(len(np.unique(labels))));"
   ]
  },
  {
   "cell_type": "markdown",
   "metadata": {
    "id": "Apb6OV1QWVsE"
   },
   "source": [
    "### YOUR CODE STARTS HERE"
   ]
  },
  {
   "cell_type": "code",
   "execution_count": null,
   "metadata": {
    "id": "tdT36-uOWVsE"
   },
   "outputs": [],
   "source": []
  }
 ],
 "metadata": {
  "accelerator": "GPU",
  "colab": {
   "name": "sarcasm_detector_using_BERT.ipynb",
   "provenance": []
  },
  "kernelspec": {
   "display_name": "ravi36",
   "language": "python",
   "name": "ravi36"
  },
  "language_info": {
   "codemirror_mode": {
    "name": "ipython",
    "version": 3
   },
   "file_extension": ".py",
   "mimetype": "text/x-python",
   "name": "python",
   "nbconvert_exporter": "python",
   "pygments_lexer": "ipython3",
   "version": "3.6.8"
  }
 },
 "nbformat": 4,
 "nbformat_minor": 1
}
