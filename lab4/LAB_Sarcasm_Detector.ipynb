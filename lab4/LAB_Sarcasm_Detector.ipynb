{
 "cells": [
  {
   "cell_type": "markdown",
   "metadata": {
    "id": "BLHBJtOKWVrq"
   },
   "source": [
    "## LAB - Sarcasm Detector"
   ]
  },
  {
   "cell_type": "markdown",
   "metadata": {
    "id": "Q44Ijn1sWVrr"
   },
   "source": [
    "## LAB\n",
    "\n",
    "*   Analyze input data, determine the sequence length (max)\n",
    "*   Train BERT Sequence Classifier to detect sarcasm in the given dataset\n",
    "*   Save the best model in './bert_sarcasm_detection_state_dict.pth'\n",
    "*   Predict the sacasm for some headlines\n"
   ]
  },
  {
   "cell_type": "markdown",
   "metadata": {
    "id": "lEdjBg0wZ0FS"
   },
   "source": [
    "### Download data and import packages"
   ]
  },
  {
   "cell_type": "code",
   "execution_count": 1,
   "metadata": {
    "colab": {
     "base_uri": "https://localhost:8080/",
     "height": 476
    },
    "id": "p_ohifPAWVr3",
    "outputId": "7d8d6928-0fed-4069-872c-7406508534ce"
   },
   "outputs": [
    {
     "name": "stdout",
     "output_type": "stream",
     "text": [
      "--2020-10-27 23:21:11--  https://github.com/ravi-ilango/odsc2020_nlp/blob/main/lab3/sarcasm_data.zip?raw=true\n",
      "Resolving github.com (github.com)... 140.82.114.3\n",
      "Connecting to github.com (github.com)|140.82.114.3|:443... connected.\n",
      "HTTP request sent, awaiting response... 302 Found\n",
      "Location: https://github.com/ravi-ilango/odsc2020_nlp/raw/main/lab3/sarcasm_data.zip [following]\n",
      "--2020-10-27 23:21:11--  https://github.com/ravi-ilango/odsc2020_nlp/raw/main/lab3/sarcasm_data.zip\n",
      "Reusing existing connection to github.com:443.\n",
      "HTTP request sent, awaiting response... 302 Found\n",
      "Location: https://raw.githubusercontent.com/ravi-ilango/odsc2020_nlp/main/lab3/sarcasm_data.zip [following]\n",
      "--2020-10-27 23:21:11--  https://raw.githubusercontent.com/ravi-ilango/odsc2020_nlp/main/lab3/sarcasm_data.zip\n",
      "Resolving raw.githubusercontent.com (raw.githubusercontent.com)... 151.101.0.133, 151.101.64.133, 151.101.128.133, ...\n",
      "Connecting to raw.githubusercontent.com (raw.githubusercontent.com)|151.101.0.133|:443... connected.\n",
      "HTTP request sent, awaiting response... 200 OK\n",
      "Length: 3427310 (3.3M) [application/zip]\n",
      "Saving to: ‘sarcasm_data.zip’\n",
      "\n",
      "sarcasm_data.zip    100%[===================>]   3.27M  --.-KB/s    in 0.05s   \n",
      "\n",
      "2020-10-27 23:21:11 (67.1 MB/s) - ‘sarcasm_data.zip’ saved [3427310/3427310]\n",
      "\n",
      "Archive:  sarcasm_data.zip\n",
      "replace sarcasm_data/Sarcasm_Headlines_Dataset.json? [y]es, [n]o, [A]ll, [N]one, [r]ename: A\n",
      "  inflating: sarcasm_data/Sarcasm_Headlines_Dataset.json  \n",
      "  inflating: __MACOSX/sarcasm_data/._Sarcasm_Headlines_Dataset.json  \n",
      "  inflating: sarcasm_data/Sarcasm_Headlines_Dataset_v2.json  \n",
      "  inflating: __MACOSX/sarcasm_data/._Sarcasm_Headlines_Dataset_v2.json  \n",
      "  inflating: __MACOSX/._sarcasm_data  \n"
     ]
    }
   ],
   "source": [
    "!wget https://github.com/ravi-ilango/odsc2020_nlp/blob/main/lab3/sarcasm_data.zip?raw=true -O sarcasm_data.zip\n",
    "\n",
    "!unzip sarcasm_data.zip"
   ]
  },
  {
   "cell_type": "code",
   "execution_count": 2,
   "metadata": {
    "colab": {
     "base_uri": "https://localhost:8080/",
     "height": 326
    },
    "id": "BamRanGtWVrs",
    "outputId": "62edb1a7-c7e7-4c9d-8470-efb248a4ea24"
   },
   "outputs": [
    {
     "name": "stdout",
     "output_type": "stream",
     "text": [
      "Requirement already satisfied: pytorch_pretrained_bert in /usr/local/lib/python3.6/dist-packages (0.6.2)\n",
      "Requirement already satisfied: torch>=0.4.1 in /usr/local/lib/python3.6/dist-packages (from pytorch_pretrained_bert) (1.6.0+cu101)\n",
      "Requirement already satisfied: tqdm in /usr/local/lib/python3.6/dist-packages (from pytorch_pretrained_bert) (4.41.1)\n",
      "Requirement already satisfied: requests in /usr/local/lib/python3.6/dist-packages (from pytorch_pretrained_bert) (2.23.0)\n",
      "Requirement already satisfied: boto3 in /usr/local/lib/python3.6/dist-packages (from pytorch_pretrained_bert) (1.16.6)\n",
      "Requirement already satisfied: regex in /usr/local/lib/python3.6/dist-packages (from pytorch_pretrained_bert) (2019.12.20)\n",
      "Requirement already satisfied: numpy in /usr/local/lib/python3.6/dist-packages (from pytorch_pretrained_bert) (1.18.5)\n",
      "Requirement already satisfied: future in /usr/local/lib/python3.6/dist-packages (from torch>=0.4.1->pytorch_pretrained_bert) (0.16.0)\n",
      "Requirement already satisfied: urllib3!=1.25.0,!=1.25.1,<1.26,>=1.21.1 in /usr/local/lib/python3.6/dist-packages (from requests->pytorch_pretrained_bert) (1.25.11)\n",
      "Requirement already satisfied: certifi>=2017.4.17 in /usr/local/lib/python3.6/dist-packages (from requests->pytorch_pretrained_bert) (2020.6.20)\n",
      "Requirement already satisfied: chardet<4,>=3.0.2 in /usr/local/lib/python3.6/dist-packages (from requests->pytorch_pretrained_bert) (3.0.4)\n",
      "Requirement already satisfied: idna<3,>=2.5 in /usr/local/lib/python3.6/dist-packages (from requests->pytorch_pretrained_bert) (2.10)\n",
      "Requirement already satisfied: jmespath<1.0.0,>=0.7.1 in /usr/local/lib/python3.6/dist-packages (from boto3->pytorch_pretrained_bert) (0.10.0)\n",
      "Requirement already satisfied: botocore<1.20.0,>=1.19.6 in /usr/local/lib/python3.6/dist-packages (from boto3->pytorch_pretrained_bert) (1.19.6)\n",
      "Requirement already satisfied: s3transfer<0.4.0,>=0.3.0 in /usr/local/lib/python3.6/dist-packages (from boto3->pytorch_pretrained_bert) (0.3.3)\n",
      "Requirement already satisfied: python-dateutil<3.0.0,>=2.1 in /usr/local/lib/python3.6/dist-packages (from botocore<1.20.0,>=1.19.6->boto3->pytorch_pretrained_bert) (2.8.1)\n",
      "Requirement already satisfied: six>=1.5 in /usr/local/lib/python3.6/dist-packages (from python-dateutil<3.0.0,>=2.1->botocore<1.20.0,>=1.19.6->boto3->pytorch_pretrained_bert) (1.15.0)\n"
     ]
    }
   ],
   "source": [
    "!pip install pytorch_pretrained_bert"
   ]
  },
  {
   "cell_type": "code",
   "execution_count": 3,
   "metadata": {
    "colab": {
     "base_uri": "https://localhost:8080/",
     "height": 34
    },
    "id": "QisEB7fcWy5-",
    "outputId": "fe165c96-e7ea-470e-90c3-b27693327388"
   },
   "outputs": [
    {
     "name": "stdout",
     "output_type": "stream",
     "text": [
      "Requirement already up-to-date: urllib3 in /usr/local/lib/python3.6/dist-packages (1.25.11)\n"
     ]
    }
   ],
   "source": [
    "!pip install --upgrade urllib3"
   ]
  },
  {
   "cell_type": "code",
   "execution_count": 4,
   "metadata": {
    "id": "lMShmRsBWVrv"
   },
   "outputs": [],
   "source": [
    "# imports\n",
    "import torch\n",
    "from torch.utils.data import TensorDataset, DataLoader, RandomSampler, SequentialSampler\n",
    "from keras.preprocessing.sequence import pad_sequences\n",
    "from sklearn.model_selection import train_test_split\n",
    "from pytorch_pretrained_bert import BertTokenizer, BertConfig\n",
    "from pytorch_pretrained_bert import BertAdam, BertForSequenceClassification\n",
    "from tqdm import trange\n",
    "import numpy as np\n",
    "import pandas as pd\n",
    "import os\n",
    "import json\n",
    "\n",
    "import matplotlib.pyplot as plt\n",
    "% matplotlib inline"
   ]
  },
  {
   "cell_type": "code",
   "execution_count": 5,
   "metadata": {
    "id": "6z-az6a5WVr0"
   },
   "outputs": [],
   "source": [
    "model_path = './bert_sarcasm_detection_state_dict.pth'"
   ]
  },
  {
   "cell_type": "markdown",
   "metadata": {
    "id": "8g5FSHhGWVr3"
   },
   "source": [
    "### Load data and explore"
   ]
  },
  {
   "cell_type": "code",
   "execution_count": 6,
   "metadata": {
    "id": "jIOsyJWZWVr6"
   },
   "outputs": [],
   "source": [
    "def read_json(json_file):\n",
    "    json_data = []\n",
    "    file = open(json_file)\n",
    "    for line in file:\n",
    "        json_line = json.loads(line)\n",
    "        json_data.append(json_line)\n",
    "    return json_data\n",
    "\n",
    "json_data = []\n",
    "for json_file in ['./sarcasm_data/Sarcasm_Headlines_Dataset.json',  './sarcasm_data/Sarcasm_Headlines_Dataset_v2.json']:\n",
    "    json_data = json_data + read_json(json_file)"
   ]
  },
  {
   "cell_type": "code",
   "execution_count": 7,
   "metadata": {
    "colab": {
     "base_uri": "https://localhost:8080/",
     "height": 34
    },
    "id": "3cI-uOiFWVr9",
    "outputId": "16914875-8c11-4c38-91d7-9c99372286f9"
   },
   "outputs": [
    {
     "name": "stdout",
     "output_type": "stream",
     "text": [
      "(55328,)\n"
     ]
    }
   ],
   "source": [
    "df = pd.DataFrame(json_data)\n",
    "\n",
    "headline_data_train = df.headline.values\n",
    "is_sarcastic_label_train = df.is_sarcastic.values\n",
    "\n",
    "print(headline_data_train.shape)"
   ]
  },
  {
   "cell_type": "code",
   "execution_count": 21,
   "metadata": {
    "colab": {
     "base_uri": "https://localhost:8080/",
     "height": 187
    },
    "id": "QXotjnWqXoix",
    "outputId": "92a06e25-9963-4d83-b344-2fffe4ca3464"
   },
   "outputs": [
    {
     "name": "stdout",
     "output_type": "stream",
     "text": [
      "\n",
      "mom starting to fear son's web series closest thing she will have to grandchild\n",
      "\n",
      "boehner just wants wife to listen, not come up with alternative debt-reduction ideas\n",
      "\n",
      "top snake handler leaves sinking huckabee campaign\n",
      "\n",
      "nuclear bomb detonates during rehearsal for 'spider-man' musical\n",
      "\n",
      "cosby lawyer asks why accusers didn't come forward to be smeared by legal team years ago\n"
     ]
    }
   ],
   "source": [
    "for _, row in df[df.is_sarcastic==1].head().iterrows():\n",
    "  print (f\"\\n{row.headline}\")"
   ]
  },
  {
   "cell_type": "code",
   "execution_count": 8,
   "metadata": {
    "colab": {
     "base_uri": "https://localhost:8080/",
     "height": 296
    },
    "id": "4ylT1aSOWVsA",
    "outputId": "c9897927-29db-41b8-db15-47213b11fedf"
   },
   "outputs": [
    {
     "data": {
      "image/png": "[encoded data removed]",
      "text/plain": [
       "<Figure size 432x288 with 1 Axes>"
      ]
     },
     "metadata": {
      "needs_background": "light",
      "tags": []
     },
     "output_type": "display_data"
    }
   ],
   "source": [
    "labels = is_sarcastic_label_train\n",
    "plt.hist(labels)\n",
    "plt.xlabel('is_sarcastic')\n",
    "plt.ylabel('nb samples')\n",
    "plt.title('is_sarcastic distribution')\n",
    "plt.xticks(np.arange(len(np.unique(labels))));"
   ]
  },
  {
   "cell_type": "markdown",
   "metadata": {
    "id": "Apb6OV1QWVsE"
   },
   "source": [
    "### YOUR CODE STARTS HERE"
   ]
  },
  {
   "cell_type": "code",
   "execution_count": null,
   "metadata": {
    "id": "tdT36-uOWVsE"
   },
   "outputs": [],
   "source": []
  }
 ],
 "metadata": {
  "accelerator": "GPU",
  "colab": {
   "name": "sarcasm_detector_using_BERT.ipynb",
   "provenance": []
  },
  "kernelspec": {
   "display_name": "ravi36",
   "language": "python",
   "name": "ravi36"
  },
  "language_info": {
   "codemirror_mode": {
    "name": "ipython",
    "version": 3
   },
   "file_extension": ".py",
   "mimetype": "text/x-python",
   "name": "python",
   "nbconvert_exporter": "python",
   "pygments_lexer": "ipython3",
   "version": "3.6.8"
  }
 },
 "nbformat": 4,
 "nbformat_minor": 1
}
